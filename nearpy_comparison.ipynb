{
 "cells": [
  {
   "cell_type": "markdown",
   "metadata": {},
   "source": [
    "# NearPy\n",
    "---\n",
    "## Download Dataset"
   ]
  },
  {
   "cell_type": "code",
   "execution_count": 1,
   "metadata": {},
   "outputs": [
    {
     "name": "stdout",
     "output_type": "stream",
     "text": [
      "Requirement already satisfied: numpy in /home/sachin/anaconda3/envs/r-lab/lib/python3.11/site-packages (1.24.3)\n",
      "Requirement already satisfied: h5py in /home/sachin/anaconda3/envs/r-lab/lib/python3.11/site-packages (3.9.0)\n",
      "Requirement already satisfied: requests in /home/sachin/anaconda3/envs/r-lab/lib/python3.11/site-packages (2.31.0)\n",
      "Requirement already satisfied: NearPy in /home/sachin/anaconda3/envs/r-lab/lib/python3.11/site-packages (1.0.0)\n",
      "Requirement already satisfied: matplotlib in /home/sachin/anaconda3/envs/r-lab/lib/python3.11/site-packages (3.8.0)\n",
      "Requirement already satisfied: charset-normalizer<4,>=2 in /home/sachin/anaconda3/envs/r-lab/lib/python3.11/site-packages (from requests) (3.2.0)\n",
      "Requirement already satisfied: idna<4,>=2.5 in /home/sachin/anaconda3/envs/r-lab/lib/python3.11/site-packages (from requests) (3.4)\n",
      "Requirement already satisfied: urllib3<3,>=1.21.1 in /home/sachin/anaconda3/envs/r-lab/lib/python3.11/site-packages (from requests) (2.0.5)\n",
      "Requirement already satisfied: certifi>=2017.4.17 in /home/sachin/anaconda3/envs/r-lab/lib/python3.11/site-packages (from requests) (2023.7.22)\n",
      "Requirement already satisfied: bitarray in /home/sachin/anaconda3/envs/r-lab/lib/python3.11/site-packages (from NearPy) (2.8.2)\n",
      "Requirement already satisfied: future in /home/sachin/anaconda3/envs/r-lab/lib/python3.11/site-packages (from NearPy) (0.18.3)\n",
      "Requirement already satisfied: scipy in /home/sachin/anaconda3/envs/r-lab/lib/python3.11/site-packages (from NearPy) (1.11.3)\n",
      "Requirement already satisfied: contourpy>=1.0.1 in /home/sachin/anaconda3/envs/r-lab/lib/python3.11/site-packages (from matplotlib) (1.1.1)\n",
      "Requirement already satisfied: cycler>=0.10 in /home/sachin/anaconda3/envs/r-lab/lib/python3.11/site-packages (from matplotlib) (0.12.0)\n",
      "Requirement already satisfied: fonttools>=4.22.0 in /home/sachin/anaconda3/envs/r-lab/lib/python3.11/site-packages (from matplotlib) (4.43.0)\n",
      "Requirement already satisfied: kiwisolver>=1.0.1 in /home/sachin/anaconda3/envs/r-lab/lib/python3.11/site-packages (from matplotlib) (1.4.5)\n",
      "Requirement already satisfied: packaging>=20.0 in /home/sachin/anaconda3/envs/r-lab/lib/python3.11/site-packages (from matplotlib) (23.2)\n",
      "Requirement already satisfied: pillow>=6.2.0 in /home/sachin/anaconda3/envs/r-lab/lib/python3.11/site-packages (from matplotlib) (10.0.1)\n",
      "Requirement already satisfied: pyparsing>=2.3.1 in /home/sachin/anaconda3/envs/r-lab/lib/python3.11/site-packages (from matplotlib) (3.1.1)\n",
      "Requirement already satisfied: python-dateutil>=2.7 in /home/sachin/anaconda3/envs/r-lab/lib/python3.11/site-packages (from matplotlib) (2.8.2)\n",
      "Requirement already satisfied: six>=1.5 in /home/sachin/anaconda3/envs/r-lab/lib/python3.11/site-packages (from python-dateutil>=2.7->matplotlib) (1.16.0)\n",
      "Note: you may need to restart the kernel to use updated packages.\n"
     ]
    }
   ],
   "source": [
    "%pip install numpy h5py requests NearPy matplotlib"
   ]
  },
  {
   "cell_type": "code",
   "execution_count": 2,
   "metadata": {},
   "outputs": [],
   "source": [
    "# import libraries\n",
    "import numpy as np\n",
    "import h5py\n",
    "import os\n",
    "import requests\n",
    "import tempfile\n",
    "import time\n",
    "import tqdm\n",
    "\n",
    "import nearpy\n",
    "import matplotlib.pyplot as plt"
   ]
  },
  {
   "cell_type": "markdown",
   "metadata": {},
   "source": [
    "## Download Dataset\n",
    "---"
   ]
  },
  {
   "cell_type": "code",
   "execution_count": 3,
   "metadata": {},
   "outputs": [],
   "source": [
    "response = requests.get(\"http://ann-benchmarks.com/sift-128-euclidean.hdf5\")\n",
    "loc = \"sift.hdf5\"\n",
    "with open(loc, 'wb') as f:\n",
    "    f.write(response.content)\n",
    "\n",
    "sift_h5py = h5py.File(loc, \"r\")"
   ]
  },
  {
   "cell_type": "code",
   "execution_count": 4,
   "metadata": {},
   "outputs": [
    {
     "data": {
      "text/plain": [
       "['distances', 'neighbors', 'test', 'train']"
      ]
     },
     "execution_count": 4,
     "metadata": {},
     "output_type": "execute_result"
    }
   ],
   "source": [
    "list(sift_h5py.keys())"
   ]
  },
  {
   "cell_type": "code",
   "execution_count": 5,
   "metadata": {},
   "outputs": [
    {
     "name": "stdout",
     "output_type": "stream",
     "text": [
      "(1000000, 128)\n",
      "(100, 128)\n"
     ]
    }
   ],
   "source": [
    "dataset = sift_h5py['train']\n",
    "queries = sift_h5py['test'][:100]\n",
    "print(dataset.shape)\n",
    "print(queries.shape)"
   ]
  },
  {
   "cell_type": "code",
   "execution_count": 6,
   "metadata": {},
   "outputs": [
    {
     "name": "stdout",
     "output_type": "stream",
     "text": [
      "(10000, 100)\n",
      "(1000000, 128)\n",
      "(10000, 128)\n"
     ]
    }
   ],
   "source": [
    "print(sift_h5py.get(\"neighbors\").shape)\n",
    "print(sift_h5py.get(\"train\").shape)\n",
    "print(sift_h5py.get(\"test\").shape)"
   ]
  },
  {
   "cell_type": "markdown",
   "metadata": {},
   "source": [
    "## Building a NearPy Engine\n",
    "---"
   ]
  },
  {
   "cell_type": "code",
   "execution_count": 7,
   "metadata": {},
   "outputs": [],
   "source": [
    "# Dimension of our vector space\n",
    "dimension = 128"
   ]
  },
  {
   "cell_type": "code",
   "execution_count": 8,
   "metadata": {},
   "outputs": [],
   "source": [
    "normalized_dataset = dataset / np.linalg.norm(dataset, axis=1)[:, np.newaxis]\n",
    "\n",
    "# Create a random binary hash with 10 bits\n",
    "rbp = nearpy.hashes.RandomBinaryProjections('rbp', 10)"
   ]
  },
  {
   "cell_type": "code",
   "execution_count": 9,
   "metadata": {},
   "outputs": [],
   "source": [
    "# Create a NearPy engine with pipeline configuration\n",
    "engine = nearpy.Engine(dimension, lshashes=[rbp], distance=nearpy.distances.EuclideanDistance())"
   ]
  },
  {
   "cell_type": "code",
   "execution_count": 10,
   "metadata": {},
   "outputs": [],
   "source": [
    "# Store base vectors in engine\n",
    "for idx, vec in enumerate(dataset):\n",
    "    engine.store_vector(vec, idx)"
   ]
  },
  {
   "cell_type": "code",
   "execution_count": 11,
   "metadata": {},
   "outputs": [],
   "source": [
    "def compute_recall(neighbors, true_neighbors):\n",
    "    total = 0\n",
    "    for gt_row, row in zip(true_neighbors, neighbors):\n",
    "        total += np.intersect1d(gt_row, row).shape[0]\n",
    "    return total / true_neighbors.size"
   ]
  },
  {
   "cell_type": "code",
   "execution_count": 12,
   "metadata": {},
   "outputs": [
    {
     "name": "stdout",
     "output_type": "stream",
     "text": [
      "\n",
      "\n",
      "\n",
      "\n",
      "\n",
      "\n",
      "\n",
      "\n",
      "\n",
      "\n",
      "\n",
      "\n",
      "\n",
      "\n",
      "\n",
      "\n",
      "\n",
      "\n",
      "\n",
      "\n",
      "\n",
      "\n",
      "\n",
      "\n",
      "\n",
      "\n",
      "\n",
      "\n",
      "\n",
      "\n",
      "\n",
      "\n",
      "\n",
      "\n",
      "\n",
      "\n",
      "\n",
      "\n",
      "\n",
      "\n",
      "\n",
      "\n",
      "\n",
      "\n",
      "\n",
      "\n",
      "\n",
      "\n",
      "\n",
      "\n",
      "\n",
      "\n",
      "\n",
      "\n",
      "\n",
      "\n",
      "\n",
      "\n",
      "\n",
      "\n",
      "\n",
      "\n",
      "\n",
      "\n",
      "\n",
      "\n",
      "\n",
      "\n",
      "\n",
      "\n",
      "\n",
      "\n",
      "\n",
      "\n",
      "\n",
      "\n",
      "\n",
      "\n",
      "\n",
      "\n",
      "\n",
      "\n",
      "\n",
      "\n",
      "\n",
      "\n",
      "\n",
      "\n",
      "\n",
      "\n",
      "\n",
      "\n",
      "\n",
      "\n",
      "\n",
      "\n",
      "\n",
      "\n",
      "\n",
      "\n",
      "Time:  7.548264503479004\n"
     ]
    }
   ],
   "source": [
    "# Perform similarity search on each query vector\n",
    "nearest_neighbors = []\n",
    "start = time.time()\n",
    "for qidx, query in enumerate(queries):\n",
    "    #nearest_neighbors.append(engine.neighbours(query))\n",
    "    \n",
    "    # Print the nearest neighbours for each query vector\n",
    "    nearest_neighbor = engine.neighbours(query)\n",
    "    #print(f\"Query Index: {qidx}\")\n",
    "    for neighbor in nearest_neighbor:\n",
    "        neighbor_vec = neighbor[0]\n",
    "        neighbor_index = neighbor[1]\n",
    "        neighbor_distance = neighbor[2]\n",
    "        # print(f\"Index: {neighbor_index}, Distance: {neighbor_distance}\")\n",
    "    print()\n",
    "end = time.time()\n",
    "print(\"Time: \", end - start)"
   ]
  },
  {
   "cell_type": "code",
   "execution_count": 13,
   "metadata": {},
   "outputs": [
    {
     "name": "stdout",
     "output_type": "stream",
     "text": [
      "Hash bucket length: 1 bits\n",
      "Time:  156.46125411987305\n",
      "Hash bucket length: 2 bits\n",
      "Time:  182.294775724411\n",
      "Hash bucket length: 3 bits\n",
      "Time:  69.01358985900879\n",
      "Hash bucket length: 4 bits\n",
      "Time:  63.12382912635803\n",
      "Hash bucket length: 5 bits\n",
      "Time:  36.04390335083008\n",
      "Hash bucket length: 6 bits\n",
      "Time:  35.05176258087158\n",
      "Hash bucket length: 7 bits\n",
      "Time:  21.137805223464966\n",
      "Hash bucket length: 8 bits\n",
      "Time:  12.21573805809021\n",
      "Hash bucket length: 9 bits\n",
      "Time:  5.2380781173706055\n",
      "Hash bucket length: 10 bits\n",
      "Time:  4.07000732421875\n",
      "Hash bucket length: 11 bits\n",
      "Time:  3.9085042476654053\n",
      "Hash bucket length: 12 bits\n",
      "Time:  2.8937034606933594\n",
      "Hash bucket length: 13 bits\n",
      "Time:  2.3417694568634033\n",
      "Hash bucket length: 14 bits\n",
      "Time:  3.3752152919769287\n",
      "Hash bucket length: 15 bits\n",
      "Time:  1.3884296417236328\n",
      "Hash bucket length: 16 bits\n",
      "Time:  0.7827067375183105\n",
      "Hash bucket length: 17 bits\n",
      "Time:  0.25902318954467773\n",
      "Hash bucket length: 18 bits\n",
      "Time:  0.4921915531158447\n",
      "Hash bucket length: 19 bits\n",
      "Time:  0.3979654312133789\n",
      "Hash bucket length: 20 bits\n",
      "Time:  0.5945212841033936\n"
     ]
    }
   ],
   "source": [
    "# Parameter comparison: hash bit length variation\n",
    "bitlengths = range(1, 21)\n",
    "times = []\n",
    "for bitlength in bitlengths:\n",
    "    print(f\"Hash bucket length: {bitlength} bits\")\n",
    "    rbp = nearpy.hashes.RandomBinaryProjections('rbp', bitlength)\n",
    "    engine = nearpy.Engine(dimension, lshashes=[rbp], distance=nearpy.distances.EuclideanDistance())\n",
    "    for idx, vec in enumerate(dataset):\n",
    "        engine.store_vector(vec, idx)\n",
    "        \n",
    "    nearest_neighbors = []\n",
    "    start = time.time()\n",
    "    for qidx, query in enumerate(queries):\n",
    "        nearest_neighbors.append(engine.neighbours(query))\n",
    "    end = time.time()\n",
    "    print(\"Time: \", end - start)\n",
    "    times.append(end-start)"
   ]
  },
  {
   "cell_type": "code",
   "execution_count": 17,
   "metadata": {},
   "outputs": [
    {
     "data": {
      "image/png": "[encoded data removed]",
      "text/plain": [
       "<Figure size 640x480 with 1 Axes>"
      ]
     },
     "metadata": {},
     "output_type": "display_data"
    }
   ],
   "source": [
    "plt.plot(bitlengths, times, color='teal', label='Time Taken')\n",
    "plt.legend()\n",
    "plt.title(\"Time taken based on the hash bucket length\")\n",
    "plt.xlabel('bit length')\n",
    "plt.xticks([0, 2, 4, 6, 8, 10, 12, 14, 16, 18, 20])\n",
    "plt.ylabel('time taken')\n",
    "plt.show()"
   ]
  }
 ],
 "metadata": {
  "kernelspec": {
   "display_name": "Python 3 (ipykernel)",
   "language": "python",
   "name": "python3"
  },
  "language_info": {
   "codemirror_mode": {
    "name": "ipython",
    "version": 3
   },
   "file_extension": ".py",
   "mimetype": "text/x-python",
   "name": "python",
   "nbconvert_exporter": "python",
   "pygments_lexer": "ipython3",
   "version": "3.11.5"
  }
 },
 "nbformat": 4,
 "nbformat_minor": 2
}
