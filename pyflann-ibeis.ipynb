{
 "cells": [
  {
   "cell_type": "markdown",
   "metadata": {},
   "source": [
    "# FlaNN\n",
    "---\n",
    "## Download Dataset"
   ]
  },
  {
   "cell_type": "code",
   "execution_count": 1,
   "metadata": {},
   "outputs": [
    {
     "name": "stdout",
     "output_type": "stream",
     "text": [
      "Requirement already satisfied: numpy in /home/sachin/anaconda3/envs/r-lab/lib/python3.11/site-packages (1.24.3)\n",
      "Requirement already satisfied: h5py in /home/sachin/anaconda3/envs/r-lab/lib/python3.11/site-packages (3.9.0)\n",
      "Requirement already satisfied: requests in /home/sachin/anaconda3/envs/r-lab/lib/python3.11/site-packages (2.31.0)\n",
      "Requirement already satisfied: pyflann-ibeis in /home/sachin/anaconda3/envs/r-lab/lib/python3.11/site-packages (2.3.0)\n",
      "Requirement already satisfied: charset-normalizer<4,>=2 in /home/sachin/anaconda3/envs/r-lab/lib/python3.11/site-packages (from requests) (3.2.0)\n",
      "Requirement already satisfied: idna<4,>=2.5 in /home/sachin/anaconda3/envs/r-lab/lib/python3.11/site-packages (from requests) (3.4)\n",
      "Requirement already satisfied: urllib3<3,>=1.21.1 in /home/sachin/anaconda3/envs/r-lab/lib/python3.11/site-packages (from requests) (2.0.5)\n",
      "Requirement already satisfied: certifi>=2017.4.17 in /home/sachin/anaconda3/envs/r-lab/lib/python3.11/site-packages (from requests) (2023.7.22)\n",
      "Note: you may need to restart the kernel to use updated packages.\n"
     ]
    }
   ],
   "source": [
    "%pip install numpy h5py requests pyflann-ibeis"
   ]
  },
  {
   "cell_type": "code",
   "execution_count": 2,
   "metadata": {},
   "outputs": [],
   "source": [
    "import numpy as np\n",
    "import h5py\n",
    "import os\n",
    "import requests\n",
    "import tempfile\n",
    "import time\n",
    "\n",
    "from pyflann_ibeis import *"
   ]
  },
  {
   "cell_type": "code",
   "execution_count": 3,
   "metadata": {},
   "outputs": [],
   "source": [
    "with tempfile.TemporaryDirectory() as tmp:\n",
    "    response = requests.get(\"http://ann-benchmarks.com/sift-128-euclidean.hdf5\")\n",
    "    loc = os.path.join(tmp, \"sift.hdf5\")\n",
    "    with open(loc, 'wb') as f:\n",
    "        f.write(response.content)\n",
    "    \n",
    "    sift_h5py = h5py.File(loc, \"r\")"
   ]
  },
  {
   "cell_type": "code",
   "execution_count": 4,
   "metadata": {},
   "outputs": [
    {
     "data": {
      "text/plain": [
       "['distances', 'neighbors', 'test', 'train']"
      ]
     },
     "execution_count": 4,
     "metadata": {},
     "output_type": "execute_result"
    }
   ],
   "source": [
    "list(sift_h5py.keys())"
   ]
  },
  {
   "cell_type": "code",
   "execution_count": 5,
   "metadata": {},
   "outputs": [
    {
     "name": "stdout",
     "output_type": "stream",
     "text": [
      "(1000000, 128)\n",
      "(10000, 128)\n"
     ]
    }
   ],
   "source": [
    "dataset = sift_h5py['train']\n",
    "queries = sift_h5py['test']\n",
    "print(dataset.shape)\n",
    "print(queries.shape)"
   ]
  },
  {
   "cell_type": "markdown",
   "metadata": {},
   "source": [
    "## Build FlaNN Index\n",
    "---"
   ]
  },
  {
   "cell_type": "code",
   "execution_count": 10,
   "metadata": {},
   "outputs": [],
   "source": [
    "normalized_dataset = dataset / np.linalg.norm(dataset, axis=1)[:, np.newaxis]\n",
    "# configure FlaNN as a tree\n",
    "flann = FLANN()\n",
    "# use FLANN().build_index() to instead create a TensorFlow-compatible indices\n",
    "searcher = flann.build_index(normalized_dataset, algorithm='kdtree', trees=4, max_neighbors=10, cores=4, leaf_max_size=2000)"
   ]
  },
  {
   "cell_type": "code",
   "execution_count": 7,
   "metadata": {},
   "outputs": [],
   "source": [
    "def compute_recall(neighbors, true_neighbors):\n",
    "    total = 0\n",
    "    for gt_row, row in zip(true_neighbors, neighbors):\n",
    "        total += np.intersect1d(gt_row, row).shape[0]\n",
    "    return total / true_neighbors.size"
   ]
  },
  {
   "cell_type": "markdown",
   "metadata": {},
   "source": [
    "## FlaNN interface features\n",
    "---"
   ]
  },
  {
   "cell_type": "code",
   "execution_count": 12,
   "metadata": {},
   "outputs": [
    {
     "name": "stdout",
     "output_type": "stream",
     "text": [
      "Recall: 3e-05\n",
      "Time: 0.07482671737670898\n"
     ]
    }
   ],
   "source": [
    "start = time.time()\n",
    "neighbors, distances = flann.nn_index(queries)\n",
    "end = time.time()\n",
    "\n",
    "# select top 10 from ground truth\n",
    "print(\"Recall:\", compute_recall(neighbors, sift_h5py['neighbors'][:, :10]))\n",
    "print(\"Time:\", end - start)"
   ]
  }
 ],
 "metadata": {
  "kernelspec": {
   "display_name": "Python 3 (ipykernel)",
   "language": "python",
   "name": "python3"
  },
  "language_info": {
   "codemirror_mode": {
    "name": "ipython",
    "version": 3
   },
   "file_extension": ".py",
   "mimetype": "text/x-python",
   "name": "python",
   "nbconvert_exporter": "python",
   "pygments_lexer": "ipython3",
   "version": "3.11.4"
  }
 },
 "nbformat": 4,
 "nbformat_minor": 2
}
