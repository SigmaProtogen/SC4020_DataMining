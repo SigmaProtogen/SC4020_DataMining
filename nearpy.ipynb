{
 "cells": [
  {
   "cell_type": "markdown",
   "metadata": {},
   "source": [
    "# NearPy\n",
    "---\n",
    "## Download Dataset"
   ]
  },
  {
   "cell_type": "code",
   "execution_count": null,
   "metadata": {},
   "outputs": [],
   "source": [
    "%pip install numpy h5py requests NearPy"
   ]
  },
  {
   "cell_type": "code",
   "execution_count": null,
   "metadata": {},
   "outputs": [],
   "source": [
    "# import libraries\n",
    "import numpy as np\n",
    "import h5py\n",
    "import os\n",
    "import requests\n",
    "import tempfile\n",
    "import time\n",
    "\n",
    "import nearpy"
   ]
  },
  {
   "cell_type": "markdown",
   "metadata": {},
   "source": [
    "## Download Dataset\n",
    "---"
   ]
  },
  {
   "cell_type": "code",
   "execution_count": null,
   "metadata": {},
   "outputs": [],
   "source": [
    "response = requests.get(\"http://ann-benchmarks.com/sift-128-euclidean.hdf5\")\n",
    "loc = \"sift.hdf5\"\n",
    "with open(loc, 'wb') as f:\n",
    "    f.write(response.content)\n",
    "\n",
    "sift_h5py = h5py.File(loc, \"r\")"
   ]
  },
  {
   "cell_type": "code",
   "execution_count": null,
   "metadata": {},
   "outputs": [],
   "source": [
    "list(sift_h5py.keys())"
   ]
  },
  {
   "cell_type": "code",
   "execution_count": null,
   "metadata": {},
   "outputs": [],
   "source": [
    "dataset = sift_h5py['train']\n",
    "queries = sift_h5py['test'][:100]\n",
    "print(dataset.shape)\n",
    "print(queries.shape)"
   ]
  },
  {
   "cell_type": "code",
   "execution_count": null,
   "metadata": {},
   "outputs": [],
   "source": [
    "print(sift_h5py.get(\"neighbors\").shape)\n",
    "print(sift_h5py.get(\"train\").shape)\n",
    "print(sift_h5py.get(\"test\").shape)"
   ]
  },
  {
   "cell_type": "markdown",
   "metadata": {},
   "source": [
    "## Building a NearPy Engine\n",
    "---"
   ]
  },
  {
   "cell_type": "code",
   "execution_count": null,
   "metadata": {},
   "outputs": [],
   "source": [
    "# Dimension of our vector space\n",
    "dimension = 128"
   ]
  },
  {
   "cell_type": "code",
   "execution_count": null,
   "metadata": {},
   "outputs": [],
   "source": [
    "normalized_dataset = dataset / np.linalg.norm(dataset, axis=1)[:, np.newaxis]\n",
    "\n",
    "# Create a random binary hash with 10 bits\n",
    "rbp = nearpy.hashes.RandomBinaryProjections('rbp', 10)"
   ]
  },
  {
   "cell_type": "code",
   "execution_count": null,
   "metadata": {},
   "outputs": [],
   "source": [
    "# Create a NearPy engine with pipeline configuration\n",
    "engine = nearpy.Engine(dimension, lshashes=[rbp], distance=nearpy.distances.EuclideanDistance())"
   ]
  },
  {
   "cell_type": "code",
   "execution_count": null,
   "metadata": {},
   "outputs": [],
   "source": [
    "# Store base vectors in engine\n",
    "for idx, vec in tqdm(enumerate(dataset)):\n",
    "    engine.store_vector(vec, idx)"
   ]
  },
  {
   "cell_type": "code",
   "execution_count": null,
   "metadata": {},
   "outputs": [],
   "source": [
    "# Perform similarity search on each query vector\n",
    "nearest_neighbors = []\n",
    "start = time.time()\n",
    "for qidx, query in enumerate(queries):\n",
    "    nearest_neighbors.append(engine.neighbours(query))\n",
    "end = time.time()\n",
    "\n",
    "print(\"Time: \", end - start)"
   ]
  },
  {
   "cell_type": "code",
   "execution_count": null,
   "metadata": {},
   "outputs": [],
   "source": [
    "# Parameter comparison: hash bit length variation\n",
    "bitlengths = range(10, 21)\n",
    "times = []\n",
    "for bitlength in bitlengths:\n",
    "    print(f\"Hash bucket length: {bitlength} bits\")\n",
    "    rbp = nearpy.hashes.RandomBinaryProjections('rbp', bitlength)\n",
    "    engine = nearpy.Engine(dimension, lshashes=[rbp], distance=nearpy.distances.EuclideanDistance())\n",
    "    for idx, vec in tqdm(enumerate(dataset)):\n",
    "        engine.store_vector(vec, idx)\n",
    "        \n",
    "    nearest_neighbors = []\n",
    "    start = time.time()\n",
    "    for qidx, query in enumerate(queries):\n",
    "        nearest_neighbors.append(engine.neighbours(query))\n",
    "    end = time.time()\n",
    "    print(\"Time: \", end - start)\n",
    "    times.append(end-start)"
   ]
  },
  {
   "cell_type": "code",
   "execution_count": null,
   "metadata": {},
   "outputs": [],
   "source": []
  }
 ],
 "metadata": {
  "kernelspec": {
   "display_name": "Python 3 (ipykernel)",
   "language": "python",
   "name": "python3"
  },
  "language_info": {
   "codemirror_mode": {
    "name": "ipython",
    "version": 3
   },
   "file_extension": ".py",
   "mimetype": "text/x-python",
   "name": "python",
   "nbconvert_exporter": "python",
   "pygments_lexer": "ipython3",
   "version": "3.11.4"
  }
 },
 "nbformat": 4,
 "nbformat_minor": 2
}
